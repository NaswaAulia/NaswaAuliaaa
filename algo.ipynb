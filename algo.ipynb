{
  "nbformat": 4,
  "nbformat_minor": 0,
  "metadata": {
    "colab": {
      "provenance": [],
      "toc_visible": true,
      "authorship_tag": "ABX9TyNQRx1L69ZuJUkoqqncdBbW",
      "include_colab_link": true
    },
    "kernelspec": {
      "name": "python3",
      "display_name": "Python 3"
    },
    "language_info": {
      "name": "python"
    }
  },
  "cells": [
    {
      "cell_type": "markdown",
      "metadata": {
        "id": "view-in-github",
        "colab_type": "text"
      },
      "source": [
        "<a href=\"https://colab.research.google.com/github/NaswaAulia/NaswaAuliaaa/blob/main/algo.ipynb\" target=\"_parent\"><img src=\"https://colab.research.google.com/assets/colab-badge.svg\" alt=\"Open In Colab\"/></a>"
      ]
    },
    {
      "cell_type": "code",
      "execution_count": 2,
      "metadata": {
        "colab": {
          "base_uri": "https://localhost:8080/"
        },
        "id": "WCgc-MAv8jWm",
        "outputId": "b804eca5-f63f-45c6-c0c9-e26c8e9e121c"
      },
      "outputs": [
        {
          "output_type": "stream",
          "name": "stdout",
          "text": [
            "Nama : Naswa\n",
            "Jam masuk kerja : 8\n",
            "selamat pagi Naswa\n",
            "\n",
            "Jam keluar kerja: 12\n",
            "selamat pagi\n",
            "----- rincian gaji -----\n",
            "Nama : Naswa\n",
            "Waktu Kerja = 4 jam (8 s.d 12)\n",
            "Gaji perhari : 175000\n",
            "Lembur : 175000 (4 * Rp.15,000)\n"
          ]
        }
      ],
      "source": [
        "#Input nama\n",
        "nama = input(\"Nama : \")\n",
        "\n",
        "#input jam kerja\n",
        "jamKerja = int(input(\"Jam masuk kerja : \"))\n",
        "\n",
        "#gaji perhari\n",
        "gajiPerhari = 175000\n",
        "\n",
        "#ucapan selamat pagi, siang, sore, malam\n",
        "#berdasarkan waktu\n",
        "if jamKerja >=6 and jamKerja <= 12:\n",
        "    print(f\"selamat pagi {nama}\\n\")\n",
        "\n",
        "elif jamKerja >= 12 and jamKerja <= 15 :\n",
        "    print(f\"selamat siang {nama}\\n\")\n",
        "\n",
        "elif jamKerja >= 15 and jamKerja <= 18:\n",
        "    print(f\"selamat sore {nama}\\n\")\n",
        "\n",
        "elif jamKerja >= 18 and jamKerja <= 24:\n",
        "    print(f\"selamat malam {nama}\\n\")\n",
        "else:\n",
        "    print(\"jam tidak valid!\")\n",
        "\n",
        "\n",
        "#jam keluar kerja\n",
        "jamKeluarKerja = int(input(\"Jam keluar kerja: \"))\n",
        "#ucapan selamat pagi, siang, sore, malam\n",
        "#berdasarkan waktu\n",
        "if jamKeluarKerja >=6 and jamKeluarKerja <= 12:\n",
        "    print(f\"selamat pagi\")\n",
        "\n",
        "elif jamKeluarKerja >= 12 and jamKeluarKerja <= 15 :\n",
        "    print(f\"selamat siang\")\n",
        "\n",
        "elif jamKeluarKerja >= 15 and jamKeluarKerja <= 18:\n",
        "    print(f\"selamat sore\")\n",
        "\n",
        "elif jamKeluarKerja >= 18 and jamKeluarKerja <= 24:\n",
        "    print(f\"selamat malam\")\n",
        "else:\n",
        "    print(\"Jam tidak valid!\")\n",
        "\n",
        "print(5*\"-\",\"rincian gaji\",5*\"-\")\n",
        "\n",
        "print(f\"Nama : {nama}\")\n",
        "\n",
        "waktuKerja = jamKeluarKerja - jamKerja\n",
        "\n",
        "print(f\"Waktu Kerja = {waktuKerja} jam ({jamKerja} s.d {jamKeluarKerja})\")\n",
        "\n",
        "if waktuKerja <= 8:\n",
        "    gaji_total = gajiPerhari\n",
        "else:\n",
        "    gaji_tambahan = (waktuKerja - 8) * 15000\n",
        "    gaji_total = gajiPerhari + gaji_tambahan\n",
        "\n",
        "print(f\"Gaji perhari : {gajiPerhari}\")\n",
        "print(f\"Lembur : {gaji_total} ({waktuKerja} * Rp.15,000)\")"
      ]
    },
    {
      "cell_type": "code",
      "source": [
        "from google.colab import drive\n",
        "drive.mount('/content/drive')"
      ],
      "metadata": {
        "id": "r_GaDPXu97Nv"
      },
      "execution_count": null,
      "outputs": []
    }
  ]
}