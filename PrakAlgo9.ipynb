{
  "nbformat": 4,
  "nbformat_minor": 0,
  "metadata": {
    "colab": {
      "provenance": [],
      "authorship_tag": "ABX9TyN7aiyJuDqO1Iz+maoJiPTz",
      "include_colab_link": true
    },
    "kernelspec": {
      "name": "python3",
      "display_name": "Python 3"
    },
    "language_info": {
      "name": "python"
    }
  },
  "cells": [
    {
      "cell_type": "markdown",
      "metadata": {
        "id": "view-in-github",
        "colab_type": "text"
      },
      "source": [
        "<a href=\"https://colab.research.google.com/github/NaswaAulia/NaswaAuliaaa/blob/mainn/PrakAlgo9.ipynb\" target=\"_parent\"><img src=\"https://colab.research.google.com/assets/colab-badge.svg\" alt=\"Open In Colab\"/></a>"
      ]
    },
    {
      "cell_type": "code",
      "source": [
        "print('@@@@@@ @  @@@  @  @@@@')\n",
        "print('@    @ @ @  @  @ @    @')\n",
        "print('@@@@@@ @ @  @  @ @@@@@@')\n",
        "print('@    @ @@@   @@@ @    @')\n",
        "\n",
        "def list_to_tuple(input_list):\n",
        "    return tuple(input_list)\n",
        "\n",
        "# Contoh list\n",
        "sample_list = [0, 6, 4, 0, 5, 2, 3, 4, 0, 0, 0, 4]\n",
        "\n",
        "# Konversi list menjadi tuple\n",
        "result_tuple = list_to_tuple(sample_list)\n",
        "\n",
        "print(sample_list)\n",
        "print(\"hasil reverse ke tuple\")\n",
        "print(result_tuple)"
      ],
      "metadata": {
        "colab": {
          "base_uri": "https://localhost:8080/"
        },
        "id": "-NbCw5lBF0Pi",
        "outputId": "13ae46b5-dd15-47b8-92cc-3c18e81e9564"
      },
      "execution_count": 9,
      "outputs": [
        {
          "output_type": "stream",
          "name": "stdout",
          "text": [
            "@@@@@@ @  @@@  @  @@@@\n",
            "@    @ @ @  @  @ @    @\n",
            "@@@@@@ @ @  @  @ @@@@@@\n",
            "@    @ @@@   @@@ @    @\n",
            "[0, 6, 4, 0, 5, 2, 3, 4, 0, 0, 0, 4]\n",
            "hasil reverse ke tuple\n",
            "(0, 6, 4, 0, 5, 2, 3, 4, 0, 0, 0, 4)\n"
          ]
        }
      ]
    },
    {
      "cell_type": "code",
      "source": [
        "a = ('1021, 1022, 1023', '1025, 1026, 1027', '1029, 1030, 1030')\n",
        "print(a)\n",
        "def ratarata(angka):\n",
        "    rata_rata = [int(x) for x in angka.split(', ')]\n",
        "    return int(sum(rata_rata) / len(rata_rata))\n",
        "\n",
        "averages = [ratarata(group) for group in a]\n",
        "print(\"rata rata dari tuple adalah : \")\n",
        "print(averages)\n",
        "\n",
        "print(\"===== NASWA AULIA  =====\")\n",
        "print(\"===== 065002300036=====\")"
      ],
      "metadata": {
        "colab": {
          "base_uri": "https://localhost:8080/"
        },
        "id": "AAAX_lQJM1UI",
        "outputId": "f12f3918-3831-448c-afca-76da93ecd2e3"
      },
      "execution_count": 16,
      "outputs": [
        {
          "output_type": "stream",
          "name": "stdout",
          "text": [
            "('1021, 1022, 1023', '1025, 1026, 1027', '1029, 1030, 1030')\n",
            "rata rata dari tuple adalah : \n",
            "[1022, 1026, 1029]\n",
            "===== NASWA AULIA  =====\n",
            "===== 065002300036=====\n"
          ]
        }
      ]
    },
    {
      "cell_type": "code",
      "source": [
        "print('@@@@@@ @  @@@  @  @@@@')\n",
        "print('@    @ @ @  @  @ @    @')\n",
        "print('@@@@@@ @ @  @  @ @@@@@@')\n",
        "print('@    @ @@@   @@@ @    @')\n",
        "\n",
        "print(\"Elkom 3\")\n",
        "a = [1,2,4,3]\n",
        "\n",
        "print(a)\n",
        "\n",
        "hasil = 1\n",
        "\n",
        "for result in a:\n",
        "    hasil *= result\n",
        "\n",
        "\n",
        "print(hasil)"
      ],
      "metadata": {
        "colab": {
          "base_uri": "https://localhost:8080/"
        },
        "id": "N1QU2zAWNZIk",
        "outputId": "60648609-c4b0-42a0-ce29-d280161fa226"
      },
      "execution_count": 1,
      "outputs": [
        {
          "output_type": "stream",
          "name": "stdout",
          "text": [
            "@@@@@@ @  @@@  @  @@@@\n",
            "@    @ @ @  @  @ @    @\n",
            "@@@@@@ @ @  @  @ @@@@@@\n",
            "@    @ @@@   @@@ @    @\n",
            "Elkom 3\n",
            "[1, 2, 4, 3]\n",
            "24\n"
          ]
        }
      ]
    },
    {
      "cell_type": "code",
      "source": [
        "def hitung(liststring):\n",
        "    count = 0\n",
        "    for string in liststring:\n",
        "        if len(string) >= 2 and string[0] == string[-1]:\n",
        "            count += 1\n",
        "            print(f\"-{string}\")\n",
        "    return count\n",
        "\n",
        "\n",
        "my_list = ['xyx', 'cac', 'lol', 'lmao', 'test']\n",
        "print(my_list)\n",
        "result = hitung(my_list)\n",
        "\n",
        "print(f\"terdapat {result} yang memenuhi syarat\")"
      ],
      "metadata": {
        "colab": {
          "base_uri": "https://localhost:8080/"
        },
        "id": "MdhzuDumQP2b",
        "outputId": "8c69eb96-9832-4b92-c982-b89874bddcd3"
      },
      "execution_count": 3,
      "outputs": [
        {
          "output_type": "stream",
          "name": "stdout",
          "text": [
            "['xyx', 'cac', 'lol', 'lmao', 'test']\n",
            "-xyx\n",
            "-cac\n",
            "-lol\n",
            "-test\n",
            "terdapat 4 yang memenuhi syarat\n"
          ]
        }
      ]
    }
  ]
}