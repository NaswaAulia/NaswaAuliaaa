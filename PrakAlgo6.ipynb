{
  "nbformat": 4,
  "nbformat_minor": 0,
  "metadata": {
    "colab": {
      "provenance": [],
      "authorship_tag": "ABX9TyNZnyBk5XjaDRPY4QK7yOq0",
      "include_colab_link": true
    },
    "kernelspec": {
      "name": "python3",
      "display_name": "Python 3"
    },
    "language_info": {
      "name": "python"
    }
  },
  "cells": [
    {
      "cell_type": "markdown",
      "metadata": {
        "id": "view-in-github",
        "colab_type": "text"
      },
      "source": [
        "<a href=\"https://colab.research.google.com/github/NaswaAulia/NaswaAuliaaa/blob/main/PrakAlgo6.ipynb\" target=\"_parent\"><img src=\"https://colab.research.google.com/assets/colab-badge.svg\" alt=\"Open In Colab\"/></a>"
      ]
    },
    {
      "cell_type": "code",
      "execution_count": 1,
      "metadata": {
        "colab": {
          "base_uri": "https://localhost:8080/"
        },
        "id": "b3wpcs7KoDSW",
        "outputId": "30b02151-bd3e-43e1-f6bb-7badb21561c2"
      },
      "outputs": [
        {
          "output_type": "stream",
          "name": "stdout",
          "text": [
            "GENAP  -> Perpindahan (Diketahui v0 Konstan)\n",
            "Masukkan v0: 5\n",
            "Masukkan a: 10\n",
            "Masukkan s: 6\n",
            "Jarak tempuh jika kecepatan awal adalah 5 dengan percepatan 10 dan jarak tempuh 6 adalah 12.041594578792296\n"
          ]
        }
      ],
      "source": [
        "import math\n",
        "\n",
        "print('GENAP  -> Perpindahan (Diketahui v0 Konstan)')\n",
        "\n",
        "def hitung_kecepatan_akhir(v0, a, s):\n",
        "    vt2 = v0**2 + 2 * a * s\n",
        "    vt = math.sqrt(vt2)\n",
        "    return vt\n",
        "\n",
        "# Memasukkan nilai kecepatan awal, percepatan, dan jarak tempuh\n",
        "kecepatan_awal = int(input(\"Masukkan v0: \"))\n",
        "percepatan = int(input(\"Masukkan a: \"))\n",
        "jarak_tempuh = int(input(\"Masukkan s: \"))\n",
        "\n",
        "# Memanggil fungsi untuk menghitung kecepatan akhir\n",
        "hasil = hitung_kecepatan_akhir(kecepatan_awal, percepatan, jarak_tempuh)\n",
        "\n",
        "print(f\"Jarak tempuh jika kecepatan awal adalah {kecepatan_awal} dengan percepatan {percepatan} dan jarak tempuh {jarak_tempuh} adalah {hasil}\")"
      ]
    },
    {
      "cell_type": "code",
      "source": [
        "import math\n",
        "\n",
        "def luas_permukaan_kubus(sisi):\n",
        "    return 6 * sisi**2\n",
        "\n",
        "def luas_permukaan_balok(panjang, lebar, tinggi):\n",
        "    return 2 * (panjang * lebar + panjang * tinggi + lebar * tinggi)\n",
        "\n",
        "def luas_permukaan_tabung(jari_jari, tinggi):\n",
        "    return 2 * math.pi * jari_jari * (jari_jari + tinggi)\n",
        "\n",
        "def luas_permukaan_kerucut(jari_jari, garis_pelukis):\n",
        "    return math.pi * jari_jari * (jari_jari + garis_pelukis)\n",
        "\n",
        "def luas_permukaan_bola(jari_jari):\n",
        "    return 4 * math.pi * jari_jari**2\n",
        "\n",
        "def main():\n",
        "    while True:\n",
        "        print(\"\\nKALKULATOR MENCARI:\")\n",
        "        print(\"1. Kubus\")\n",
        "        print(\"2. Balok\")\n",
        "        print(\"3. Tabung\")\n",
        "        print(\"4. Kerucut\")\n",
        "        print(\"5. Bola\")\n",
        "        print(\"6. Keluar\")\n",
        "\n",
        "        pilihan = int(input(\"Mau yang mana: \"))\n",
        "\n",
        "        if pilihan == 1:\n",
        "            sisi = float(input(\"Masukkan sisi: \"))\n",
        "            print(f\"sisi: {sisi}\")\n",
        "            print(f\"Luas permukaan kubus: {luas_permukaan_kubus(sisi)}\")\n",
        "        elif pilihan == 2:\n",
        "            panjang = float(input(\"Masukkan panjang: \"))\n",
        "            lebar = float(input(\"Masukkan lebar: \"))\n",
        "            tinggi = float(input(\"Masukkan tinggi: \"))\n",
        "            print(f\"panjang: {panjang}\")\n",
        "            print(f\"lebar: {lebar}\")\n",
        "            print(f\"tinggi: {tinggi}\")\n",
        "            print(f\"Luas permukaan balok: {luas_permukaan_balok(panjang, lebar, tinggi)}\")\n",
        "        elif pilihan == 3:\n",
        "            jari_jari = float(input(\"Masukkan jari-jari: \"))\n",
        "            tinggi = float(input(\"Masukkan tinggi: \"))\n",
        "            print(f\"jari - jari: {jari_jari}\")\n",
        "            print(f\"tinggi: {tinggi}\")\n",
        "            print(f\"Luas permukaan tabung: {luas_permukaan_tabung(jari_jari, tinggi)}\")\n",
        "        elif pilihan == 4:\n",
        "            jari_jari = float(input(\"Masukkan jari-jari: \"))\n",
        "            garis_pelukis = float(input(\"Masukkan garis pelukis: \"))\n",
        "            print(f\"jari - jari: {jari_jari}\")\n",
        "            print(f\"garis pelukis: {garis_pelukis}\")\n",
        "            print(f\"Luas permukaan kerucut: {luas_permukaan_kerucut(jari_jari, garis_pelukis)}\")\n",
        "        elif pilihan == 5:\n",
        "            jari_jari = float(input(\"Masukkan jari-jari: \"))\n",
        "            print(f\"jari - jari: {jari_jari}\")\n",
        "            print(f\"Luas permukaan bola: {luas_permukaan_bola(jari_jari)}\")\n",
        "        elif pilihan == 6:\n",
        "            print(\"Terima kasih!\")\n",
        "            break\n",
        "        else:\n",
        "            print(\"Pilihan tidak valid. Silakan pilih nomor dari 1 hingga 6.\")\n",
        "\n",
        "if  __name__ == \"__main__\":\n",
        "    main()"
      ],
      "metadata": {
        "colab": {
          "base_uri": "https://localhost:8080/"
        },
        "id": "Q9mnMnrppNuY",
        "outputId": "c41f4d70-9290-413b-edc8-16afeee64f6c"
      },
      "execution_count": 2,
      "outputs": [
        {
          "output_type": "stream",
          "name": "stdout",
          "text": [
            "\n",
            "KALKULATOR MENCARI:\n",
            "1. Kubus\n",
            "2. Balok\n",
            "3. Tabung\n",
            "4. Kerucut\n",
            "5. Bola\n",
            "6. Keluar\n",
            "Mau yang mana: 1\n",
            "Masukkan sisi: 2\n",
            "sisi: 2.0\n",
            "Luas permukaan kubus: 24.0\n",
            "\n",
            "KALKULATOR MENCARI:\n",
            "1. Kubus\n",
            "2. Balok\n",
            "3. Tabung\n",
            "4. Kerucut\n",
            "5. Bola\n",
            "6. Keluar\n",
            "Mau yang mana: 2\n",
            "Masukkan panjang: 5\n",
            "Masukkan lebar: 2\n",
            "Masukkan tinggi: 1\n",
            "panjang: 5.0\n",
            "lebar: 2.0\n",
            "tinggi: 1.0\n",
            "Luas permukaan balok: 34.0\n",
            "\n",
            "KALKULATOR MENCARI:\n",
            "1. Kubus\n",
            "2. Balok\n",
            "3. Tabung\n",
            "4. Kerucut\n",
            "5. Bola\n",
            "6. Keluar\n",
            "Mau yang mana: 3\n",
            "Masukkan jari-jari: 7\n",
            "Masukkan tinggi: 2\n",
            "jari - jari: 7.0\n",
            "tinggi: 2.0\n",
            "Luas permukaan tabung: 395.84067435231395\n",
            "\n",
            "KALKULATOR MENCARI:\n",
            "1. Kubus\n",
            "2. Balok\n",
            "3. Tabung\n",
            "4. Kerucut\n",
            "5. Bola\n",
            "6. Keluar\n",
            "Mau yang mana: 5\n",
            "Masukkan jari-jari: 7\n",
            "jari - jari: 7.0\n",
            "Luas permukaan bola: 615.7521601035994\n",
            "\n",
            "KALKULATOR MENCARI:\n",
            "1. Kubus\n",
            "2. Balok\n",
            "3. Tabung\n",
            "4. Kerucut\n",
            "5. Bola\n",
            "6. Keluar\n",
            "Mau yang mana: 6\n",
            "Terima kasih!\n"
          ]
        }
      ]
    }
  ]
}