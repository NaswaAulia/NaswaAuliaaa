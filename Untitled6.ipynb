{
  "nbformat": 4,
  "nbformat_minor": 0,
  "metadata": {
    "colab": {
      "provenance": [],
      "authorship_tag": "ABX9TyMWawa8ruZBqCKJnhyQvGMt",
      "include_colab_link": true
    },
    "kernelspec": {
      "name": "python3",
      "display_name": "Python 3"
    },
    "language_info": {
      "name": "python"
    }
  },
  "cells": [
    {
      "cell_type": "markdown",
      "metadata": {
        "id": "view-in-github",
        "colab_type": "text"
      },
      "source": [
        "<a href=\"https://colab.research.google.com/github/NaswaAulia/NaswaAuliaaa/blob/main/Untitled6.ipynb\" target=\"_parent\"><img src=\"https://colab.research.google.com/assets/colab-badge.svg\" alt=\"Open In Colab\"/></a>"
      ]
    },
    {
      "cell_type": "code",
      "execution_count": null,
      "metadata": {
        "colab": {
          "base_uri": "https://localhost:8080/"
        },
        "id": "2dteiXxCzKYV",
        "outputId": "79712106-c961-4f22-d989-4c6e40640611"
      },
      "outputs": [
        {
          "output_type": "stream",
          "name": "stdout",
          "text": [
            "@@@@@@ @  @@@  @  @@@@\n",
            "@    @ @ @  @  @ @    @\n",
            "@@@@@@ @ @  @  @ @@@@@@\n",
            "@    @ @@@   @@@ @    @\n",
            "---PROGRAM KONVERSI BILANGAN---\n",
            "Pilih operasi:\n",
            "1. Angka ke Biner\n",
            "2. Biner ke Angka\n",
            "3. exit\n",
            "Masukkan nomor operasi yang ingin Anda lakukan (1/2/3): 1\n",
            "Masukkan bilangan angka: 24\n",
            "Hasil konversi ke biner: 11000\n",
            "---PROGRAM KONVERSI BILANGAN---\n",
            "Pilih operasi:\n",
            "1. Angka ke Biner\n",
            "2. Biner ke Angka\n",
            "3. exit\n",
            "Masukkan nomor operasi yang ingin Anda lakukan (1/2/3): 3\n",
            "Terima kasih!!!!!\n"
          ]
        }
      ],
      "source": [
        "print('@@@@@@ @  @@@  @  @@@@')\n",
        "print('@    @ @ @  @  @ @    @')\n",
        "print('@@@@@@ @ @  @  @ @@@@@@')\n",
        "print('@    @ @@@   @@@ @    @')\n",
        "\n",
        "while True:\n",
        "    print(\"---PROGRAM KONVERSI BILANGAN---\")\n",
        "    print(\"Pilih operasi:\")\n",
        "    print(\"1. Angka ke Biner\")\n",
        "    print(\"2. Biner ke Angka\")\n",
        "    print(\"3. exit\")\n",
        "\n",
        "    pilihan = input(\"Masukkan nomor operasi yang ingin Anda lakukan (1/2/3): \")\n",
        "\n",
        "    if pilihan == '1':\n",
        "        angka = int(input(\"Masukkan bilangan angka: \"))\n",
        "        biner = ''\n",
        "        if angka == 0:\n",
        "            biner = '0'\n",
        "        else:\n",
        "            while angka > 0:\n",
        "                sisa = angka % 2\n",
        "                biner = str(sisa) + biner\n",
        "                angka = angka // 2\n",
        "        print(f\"Hasil konversi ke biner: {biner}\")\n",
        "    elif pilihan == '2':\n",
        "        biner = input(\"Masukkan bilangan biner: \")\n",
        "        angka = 0\n",
        "        for digit in biner:\n",
        "            angka = angka * 2 + int(digit)\n",
        "        print(f\"Hasil konversi ke angka: {angka}\")\n",
        "    elif pilihan == '3':\n",
        "        print(\"Terima kasih!!!!!\")\n",
        "        break\n",
        "    else:\n",
        "        print(\"Pilihan tidak valid. Silakan pilih 1, 2, atau 3.\")"
      ]
    },
    {
      "cell_type": "code",
      "source": [
        "print('@@@@@@ @  @@@  @  @@@@')\n",
        "print('@    @ @ @  @  @ @    @')\n",
        "print('@@@@@@ @ @  @  @ @@@@@@')\n",
        "print('@    @ @@@   @@@ @    @')\n",
        "\n",
        "# Mendefinisikan daftar angka\n",
        "angka = [1, 2, 3, 4, 5]\n",
        "\n",
        "# Membuat daftar kosong untuk menyimpan angka genap\n",
        "angka_genap = []\n",
        "\n",
        "# Memeriksa setiap angka dalam daftar\n",
        "for n in angka:\n",
        "    if n % 2 == 0:\n",
        "        # Jika angka adalah angka genap, tambahkan ke daftar angka_genap\n",
        "        angka_genap.append(n)\n",
        "\n",
        "# Mencetak daftar angka genap\n",
        "print(\"Angka genap dalam daftar:\", angka_genap)\n"
      ],
      "metadata": {
        "colab": {
          "base_uri": "https://localhost:8080/"
        },
        "id": "KaAhzeFgw1F6",
        "outputId": "80a07d15-f37a-4897-87f8-a0c202ceddda"
      },
      "execution_count": null,
      "outputs": [
        {
          "output_type": "stream",
          "name": "stdout",
          "text": [
            "@@@@@@ @  @@@  @  @@@@\n",
            "@    @ @ @  @  @ @    @\n",
            "@@@@@@ @ @  @  @ @@@@@@\n",
            "@    @ @@@   @@@ @    @\n",
            "Angka genap dalam daftar: [2, 4]\n"
          ]
        }
      ]
    },
    {
      "cell_type": "code",
      "source": [
        "print('@@@@@@ @  @@@  @  @@@@')\n",
        "print('@    @ @ @  @  @ @    @')\n",
        "print('@@@@@@ @ @  @  @ @@@@@@')\n",
        "print('@    @ @@@   @@@ @    @')\n",
        " int(input(Masukkan jumlah bilangan:7\n",
        "masukkan angka pertama:2\n",
        "masukkan angka kedua:1\n",
        "berikut urutannya\n",
        "2\n",
        "berikut urutannya\n",
        "1\n",
        "berikut urutannya\n",
        "3\n",
        "berikut urutannya\n",
        "4\n",
        "berikut urutannya\n",
        "7\n",
        "berikut urutannya\n"
      ],
      "metadata": {
        "colab": {
          "base_uri": "https://localhost:8080/",
          "height": 140
        },
        "id": "6RSkfQOBully",
        "outputId": "ecedd57b-a0a8-472a-851c-3968af0bdc8d"
      },
      "execution_count": 3,
      "outputs": [
        {
          "output_type": "error",
          "ename": "SyntaxError",
          "evalue": "ignored",
          "traceback": [
            "\u001b[0;36m  File \u001b[0;32m\"<ipython-input-3-4e3428e42754>\"\u001b[0;36m, line \u001b[0;32m5\u001b[0m\n\u001b[0;31m    Masukkan jumlah bilangan:7\u001b[0m\n\u001b[0m             ^\u001b[0m\n\u001b[0;31mSyntaxError\u001b[0m\u001b[0;31m:\u001b[0m invalid syntax\n"
          ]
        }
      ]
    },
    {
      "cell_type": "code",
      "source": [
        "print('@@@@@@ @  @@@  @  @@@@')\n",
        "print('@    @ @ @  @  @ @    @')\n",
        "print('@@@@@@ @ @  @  @ @@@@@@')\n",
        "print('@    @ @@@   @@@ @    @')\n",
        "\n",
        "def cek_angka_genap(lst):\n",
        "    for angka in lst:\n",
        "        if angka % 2 == 0:\n",
        "            return True\n",
        "    return False\n",
        "\n",
        "input_str = input(\"Masukkan list angka (integer)-> \")\n",
        "angka_list = [int(x) for x in input_str.split()]\n",
        "\n",
        "hasil = cek_angka_genap(angka_list)\n",
        "\n",
        "if hasil:\n",
        "    print(\"List memiliki angka genap.\")\n",
        "else:\n",
        "    print(\"List tidak memiliki angka genap.\")"
      ],
      "metadata": {
        "colab": {
          "base_uri": "https://localhost:8080/"
        },
        "id": "YkKPYNPzQELz",
        "outputId": "220d6d47-9379-4bbc-875d-700fa010fff5"
      },
      "execution_count": 6,
      "outputs": [
        {
          "output_type": "stream",
          "name": "stdout",
          "text": [
            "@@@@@@ @  @@@  @  @@@@\n",
            "@    @ @ @  @  @ @    @\n",
            "@@@@@@ @ @  @  @ @@@@@@\n",
            "@    @ @@@   @@@ @    @\n",
            "Masukkan list angka (integer)-> 1 3 5 7\n",
            "List tidak memiliki angka genap.\n"
          ]
        }
      ]
    },
    {
      "cell_type": "code",
      "source": [
        "print('@@@@@@ @  @@@  @  @@@@')\n",
        "print('@    @ @ @  @  @ @    @')\n",
        "print('@@@@@@ @ @  @  @ @@@@@@')\n",
        "print('@    @ @@@   @@@ @    @')\n",
        "# Menerima input total harga belanjaan\n",
        "total_harga = float(input(\"Masukkan total harga belanjaan: Rp. \"))\n",
        "\n",
        "# Menerima input jumlah uang dari pelanggan\n",
        "jumlah_uang = float(input(\"Masukkan jumlah uang yang diberikan: Rp. \"))\n",
        "\n",
        "# Menghitung kembalian\n",
        "kembalian = jumlah_uang - total_harga\n",
        "\n",
        "# Inisialisasi daftar lembar uang dengan nilai nominal\n",
        "lembar_uang = [100000, 50000, 20000, 10000, 5000, 2000, 1000]\n",
        "\n",
        "# Inisialisasi daftar jumlah lembar uang yang dibutuhkan\n",
        "jumlah_lembar_uang = [0, 0, 0, 0, 0, 0, 0]\n",
        "\n",
        "# Menghitung jumlah lembar uang yang dibutuhkan\n",
        "for i in range(len(lembar_uang)):\n",
        "    if kembalian >= lembar_uang[i]:\n",
        "        jumlah_lembar_uang[i] = int(kembalian / lembar_uang[i])\n",
        "        kembalian = kembalian % lembar_uang[i]\n",
        "\n",
        "# Menampilkan kembalian\n",
        "print(\"Kembalian: Rp\", round(jumlah_uang - total_harga, 2))\n",
        "\n",
        "\n"
      ],
      "metadata": {
        "colab": {
          "base_uri": "https://localhost:8080/"
        },
        "id": "JuwqXaL0yADm",
        "outputId": "1f475efa-fe80-46df-930f-f15b23a7a7db"
      },
      "execution_count": 7,
      "outputs": [
        {
          "output_type": "stream",
          "name": "stdout",
          "text": [
            "@@@@@@ @  @@@  @  @@@@\n",
            "@    @ @ @  @  @ @    @\n",
            "@@@@@@ @ @  @  @ @@@@@@\n",
            "@    @ @@@   @@@ @    @\n",
            "Masukkan total harga belanjaan: Rp. 15.000\n",
            "Masukkan jumlah uang yang diberikan: Rp. 175.000\n",
            "Kembalian: Rp 160.0\n"
          ]
        }
      ]
    },
    {
      "cell_type": "code",
      "source": [
        "# Meminta input dari pengguna\n",
        "jumlah = int(input(\"Masukkan jumlah bilangan: \"))\n",
        "bilangan1 = int(input(\"Masukkan angka pertama: \"))\n",
        "bilangan2 = int(input(\"Masukkan angka kedua: \"))\n",
        "\n",
        "deretfibonacci=[bilangan1, bilangan2]\n",
        "for i in range(2,jumlah):\n",
        "  nextfibonacci=deretfibonacci[i-1]+deretfibonacci[i-2]\n",
        "  deretfibonacci.append(nextfibonacci)\n",
        "for x in deretfibonacci:\n",
        "  print(f'angka selanjutnya {x}')"
      ],
      "metadata": {
        "colab": {
          "base_uri": "https://localhost:8080/"
        },
        "id": "KRuMGSdi2Qa6",
        "outputId": "12ac701f-62bc-4096-a05b-ef2a986780ff"
      },
      "execution_count": 8,
      "outputs": [
        {
          "output_type": "stream",
          "name": "stdout",
          "text": [
            "Masukkan jumlah bilangan: 7\n",
            "Masukkan angka pertama: 2\n",
            "Masukkan angka kedua: 1\n",
            "angka selanjutnya 2\n",
            "angka selanjutnya 1\n",
            "angka selanjutnya 3\n",
            "angka selanjutnya 4\n",
            "angka selanjutnya 7\n",
            "angka selanjutnya 11\n",
            "angka selanjutnya 18\n"
          ]
        }
      ]
    }
  ]
}