{
  "nbformat": 4,
  "nbformat_minor": 0,
  "metadata": {
    "colab": {
      "provenance": [],
      "authorship_tag": "ABX9TyOgGBNVT2dauf8Gg4GajZbN",
      "include_colab_link": true
    },
    "kernelspec": {
      "name": "python3",
      "display_name": "Python 3"
    },
    "language_info": {
      "name": "python"
    }
  },
  "cells": [
    {
      "cell_type": "markdown",
      "metadata": {
        "id": "view-in-github",
        "colab_type": "text"
      },
      "source": [
        "<a href=\"https://colab.research.google.com/github/NaswaAulia/NaswaAuliaaa/blob/main/Untitled6.ipynb\" target=\"_parent\"><img src=\"https://colab.research.google.com/assets/colab-badge.svg\" alt=\"Open In Colab\"/></a>"
      ]
    },
    {
      "cell_type": "code",
      "execution_count": null,
      "metadata": {
        "colab": {
          "base_uri": "https://localhost:8080/"
        },
        "id": "2dteiXxCzKYV",
        "outputId": "79712106-c961-4f22-d989-4c6e40640611"
      },
      "outputs": [
        {
          "output_type": "stream",
          "name": "stdout",
          "text": [
            "@@@@@@ @  @@@  @  @@@@\n",
            "@    @ @ @  @  @ @    @\n",
            "@@@@@@ @ @  @  @ @@@@@@\n",
            "@    @ @@@   @@@ @    @\n",
            "---PROGRAM KONVERSI BILANGAN---\n",
            "Pilih operasi:\n",
            "1. Angka ke Biner\n",
            "2. Biner ke Angka\n",
            "3. exit\n",
            "Masukkan nomor operasi yang ingin Anda lakukan (1/2/3): 1\n",
            "Masukkan bilangan angka: 24\n",
            "Hasil konversi ke biner: 11000\n",
            "---PROGRAM KONVERSI BILANGAN---\n",
            "Pilih operasi:\n",
            "1. Angka ke Biner\n",
            "2. Biner ke Angka\n",
            "3. exit\n",
            "Masukkan nomor operasi yang ingin Anda lakukan (1/2/3): 3\n",
            "Terima kasih!!!!!\n"
          ]
        }
      ],
      "source": [
        "print('@@@@@@ @  @@@  @  @@@@')\n",
        "print('@    @ @ @  @  @ @    @')\n",
        "print('@@@@@@ @ @  @  @ @@@@@@')\n",
        "print('@    @ @@@   @@@ @    @')\n",
        "\n",
        "while True:\n",
        "    print(\"---PROGRAM KONVERSI BILANGAN---\")\n",
        "    print(\"Pilih operasi:\")\n",
        "    print(\"1. Angka ke Biner\")\n",
        "    print(\"2. Biner ke Angka\")\n",
        "    print(\"3. exit\")\n",
        "\n",
        "    pilihan = input(\"Masukkan nomor operasi yang ingin Anda lakukan (1/2/3): \")\n",
        "\n",
        "    if pilihan == '1':\n",
        "        angka = int(input(\"Masukkan bilangan angka: \"))\n",
        "        biner = ''\n",
        "        if angka == 0:\n",
        "            biner = '0'\n",
        "        else:\n",
        "            while angka > 0:\n",
        "                sisa = angka % 2\n",
        "                biner = str(sisa) + biner\n",
        "                angka = angka // 2\n",
        "        print(f\"Hasil konversi ke biner: {biner}\")\n",
        "    elif pilihan == '2':\n",
        "        biner = input(\"Masukkan bilangan biner: \")\n",
        "        angka = 0\n",
        "        for digit in biner:\n",
        "            angka = angka * 2 + int(digit)\n",
        "        print(f\"Hasil konversi ke angka: {angka}\")\n",
        "    elif pilihan == '3':\n",
        "        print(\"Terima kasih!!!!!\")\n",
        "        break\n",
        "    else:\n",
        "        print(\"Pilihan tidak valid. Silakan pilih 1, 2, atau 3.\")"
      ]
    },
    {
      "cell_type": "code",
      "source": [
        "print('@@@@@@ @  @@@  @  @@@@')\n",
        "print('@    @ @ @  @  @ @    @')\n",
        "print('@@@@@@ @ @  @  @ @@@@@@')\n",
        "print('@    @ @@@   @@@ @    @')\n",
        "\n",
        "# Mendefinisikan daftar angka\n",
        "angka = [1, 2, 3, 4, 5]\n",
        "\n",
        "# Membuat daftar kosong untuk menyimpan angka genap\n",
        "angka_genap = []\n",
        "\n",
        "# Memeriksa setiap angka dalam daftar\n",
        "for n in angka:\n",
        "    if n % 2 == 0:\n",
        "        # Jika angka adalah angka genap, tambahkan ke daftar angka_genap\n",
        "        angka_genap.append(n)\n",
        "\n",
        "# Mencetak daftar angka genap\n",
        "print(\"Angka genap dalam daftar:\", angka_genap)\n"
      ],
      "metadata": {
        "colab": {
          "base_uri": "https://localhost:8080/"
        },
        "id": "KaAhzeFgw1F6",
        "outputId": "80a07d15-f37a-4897-87f8-a0c202ceddda"
      },
      "execution_count": null,
      "outputs": [
        {
          "output_type": "stream",
          "name": "stdout",
          "text": [
            "@@@@@@ @  @@@  @  @@@@\n",
            "@    @ @ @  @  @ @    @\n",
            "@@@@@@ @ @  @  @ @@@@@@\n",
            "@    @ @@@   @@@ @    @\n",
            "Angka genap dalam daftar: [2, 4]\n"
          ]
        }
      ]
    },
    {
      "cell_type": "code",
      "source": [
        "print('@@@@@@ @  @@@  @  @@@@')\n",
        "print('@    @ @ @  @  @ @    @')\n",
        "print('@@@@@@ @ @  @  @ @@@@@@')\n",
        "print('@    @ @@@   @@@ @    @')\n",
        " int(input(Masukkan jumlah bilangan:7\n",
        "masukkan angka pertama:2\n",
        "masukkan angka kedua:1\n",
        "berikut urutannya\n",
        "2\n",
        "berikut urutannya\n",
        "1\n",
        "berikut urutannya\n",
        "3\n",
        "berikut urutannya\n",
        "4\n",
        "berikut urutannya\n",
        "7\n",
        "berikut urutannya\n"
      ],
      "metadata": {
        "colab": {
          "base_uri": "https://localhost:8080/",
          "height": 140
        },
        "id": "6RSkfQOBully",
        "outputId": "ecedd57b-a0a8-472a-851c-3968af0bdc8d"
      },
      "execution_count": 3,
      "outputs": [
        {
          "output_type": "error",
          "ename": "SyntaxError",
          "evalue": "ignored",
          "traceback": [
            "\u001b[0;36m  File \u001b[0;32m\"<ipython-input-3-4e3428e42754>\"\u001b[0;36m, line \u001b[0;32m5\u001b[0m\n\u001b[0;31m    Masukkan jumlah bilangan:7\u001b[0m\n\u001b[0m             ^\u001b[0m\n\u001b[0;31mSyntaxError\u001b[0m\u001b[0;31m:\u001b[0m invalid syntax\n"
          ]
        }
      ]
    },
    {
      "cell_type": "code",
      "source": [
        "print('@@@@@@ @  @@@  @  @@@@')\n",
        "print('@    @ @ @  @  @ @    @')\n",
        "print('@@@@@@ @ @  @  @ @@@@@@')\n",
        "print('@    @ @@@   @@@ @    @')\n",
        "\n",
        "def cek_angka_genap(lst):\n",
        "    for angka in lst:\n",
        "        if angka % 2 == 0:\n",
        "            return True\n",
        "    return False\n",
        "\n",
        "input_str = input(\"Masukkan list angka (integer)-> \")\n",
        "angka_list = [int(x) for x in input_str.split()]\n",
        "\n",
        "hasil = cek_angka_genap(angka_list)\n",
        "\n",
        "if hasil:\n",
        "    print(\"List memiliki angka genap.\")\n",
        "else:\n",
        "    print(\"List tidak memiliki angka genap.\")"
      ],
      "metadata": {
        "colab": {
          "base_uri": "https://localhost:8080/"
        },
        "id": "YkKPYNPzQELz",
        "outputId": "220d6d47-9379-4bbc-875d-700fa010fff5"
      },
      "execution_count": 6,
      "outputs": [
        {
          "output_type": "stream",
          "name": "stdout",
          "text": [
            "@@@@@@ @  @@@  @  @@@@\n",
            "@    @ @ @  @  @ @    @\n",
            "@@@@@@ @ @  @  @ @@@@@@\n",
            "@    @ @@@   @@@ @    @\n",
            "Masukkan list angka (integer)-> 1 3 5 7\n",
            "List tidak memiliki angka genap.\n"
          ]
        }
      ]
    },
    {
      "cell_type": "code",
      "source": [
        "def fibonacci(jumlah, bilangan1, bilangan2):\n",
        "    deret = [bilangan1, bilangan2]\n",
        "    for i in range(2, jumlah):\n",
        "        next_number = deret[i - 1] + deret[i - 2]\n",
        "        deret.append(next_number)\n",
        "    return deret\n",
        "\n",
        "try:\n",
        "    jumlah = int(input(\"Masukkan jumlah bilangan Fibonacci yang ingin ditampilkan: \"))\n",
        "    bilangan1 = int(input(\"Masukkan bilangan pertama: \"))\n",
        "    bilangan2 = int(input(\"Masukkan bilangan kedua: \"))\n",
        "\n",
        "    if jumlah <= 0:\n",
        "        print(\"Jumlah harus lebih dari 0.\")\n",
        "    else:\n",
        "        hasil = fibonacci(jumlah, bilangan1, bilangan2)\n",
        "        print(\"Deret Fibonacci:\")\n",
        "        for angka in hasil:\n",
        "            print(angka)\n",
        "except ValueError:\n",
        "    print(\"Input harus berupa angka.\")\n"
      ],
      "metadata": {
        "colab": {
          "base_uri": "https://localhost:8080/"
        },
        "id": "Wfu_NbJ5wDAt",
        "outputId": "0fad0589-1d38-42fa-e111-45ab92d7e28d"
      },
      "execution_count": 5,
      "outputs": [
        {
          "output_type": "stream",
          "name": "stdout",
          "text": [
            "Masukkan jumlah bilangan Fibonacci yang ingin ditampilkan: 7\n",
            "Masukkan bilangan pertama: 2\n",
            "Masukkan bilangan kedua: 1\n",
            "Deret Fibonacci:\n",
            "2\n",
            "1\n",
            "3\n",
            "4\n",
            "7\n",
            "11\n",
            "18\n"
          ]
        }
      ]
    }
  ]
}